{
  "cells": [
    {
      "cell_type": "markdown",
      "source": [
        "# TP2 : text data pour word2vec:"
      ],
      "metadata": {
        "id": "-44V2PCoP1tD"
      }
    },
    {
      "cell_type": "code",
      "execution_count": null,
      "metadata": {
        "colab": {
          "base_uri": "https://localhost:8080/"
        },
        "id": "MygqRHV_gRY7",
        "outputId": "636caf53-e80f-4865-8535-135c3009c9c2"
      },
      "outputs": [
        {
          "output_type": "stream",
          "name": "stdout",
          "text": [
            "Requirement already satisfied: gensim in /usr/local/lib/python3.10/dist-packages (4.3.2)\n",
            "Requirement already satisfied: numpy>=1.18.5 in /usr/local/lib/python3.10/dist-packages (from gensim) (1.23.5)\n",
            "Requirement already satisfied: scipy>=1.7.0 in /usr/local/lib/python3.10/dist-packages (from gensim) (1.11.3)\n",
            "Requirement already satisfied: smart-open>=1.8.1 in /usr/local/lib/python3.10/dist-packages (from gensim) (6.4.0)\n",
            "Requirement already satisfied: nltk in /usr/local/lib/python3.10/dist-packages (3.8.1)\n",
            "Requirement already satisfied: click in /usr/local/lib/python3.10/dist-packages (from nltk) (8.1.7)\n",
            "Requirement already satisfied: joblib in /usr/local/lib/python3.10/dist-packages (from nltk) (1.3.2)\n",
            "Requirement already satisfied: regex>=2021.8.3 in /usr/local/lib/python3.10/dist-packages (from nltk) (2023.6.3)\n",
            "Requirement already satisfied: tqdm in /usr/local/lib/python3.10/dist-packages (from nltk) (4.66.1)\n"
          ]
        },
        {
          "output_type": "stream",
          "name": "stderr",
          "text": [
            "[nltk_data] Downloading package punkt to /root/nltk_data...\n",
            "[nltk_data]   Unzipping tokenizers/punkt.zip.\n"
          ]
        },
        {
          "output_type": "execute_result",
          "data": {
            "text/plain": [
              "True"
            ]
          },
          "metadata": {},
          "execution_count": 1
        }
      ],
      "source": [
        "# Importation des bibliothèques nécessaires\n",
        "!pip install gensim\n",
        "from gensim.models import Word2Vec\n",
        "!pip install nltk\n",
        "import nltk\n",
        "from nltk.tokenize import word_tokenize, sent_tokenize\n",
        "# Téléchargez les données nécessaires pour la tokenization\n",
        "nltk.download('punkt')"
      ]
    },
    {
      "cell_type": "code",
      "source": [
        "# Charger le fichier text\n",
        "with open(\"text\", \"r\") as file:\n",
        "    text = file.read()\n",
        "# Afficher le contenu du fichier\n",
        "print(text)"
      ],
      "metadata": {
        "colab": {
          "base_uri": "https://localhost:8080/"
        },
        "id": "JfAw-FYXfbKq",
        "outputId": "8fa647ce-4ac8-45fc-ecb5-74ac29c50cb8"
      },
      "execution_count": null,
      "outputs": [
        {
          "output_type": "stream",
          "name": "stdout",
          "text": [
            "**Morocco and Marrakech: A Tapestry of Tradition and Modernity** Morocco, located at the crossroads of Europe and Africa, is a country drenched in history, mystery, and cultural richness. A testament to the ancient civilizations that once flourished here, this North African kingdom boasts a unique blend of Arab, Berber, and European influences. At the heart of Morocco's rich tapestry lies Marrakech, one of its four imperial cities and a vibrant epicenter of tradition and modernity. **Geographical Significance** Morocco is bordered by the Atlantic Ocean to the west, the Mediterranean Sea to the north, Algeria to the east and southeast, and the vast Sahara desert to the south. Its strategic location has historically made it a sought-after territory and a melting pot of cultures, religions, and trade routes. **Marrakech: The Red City** Marrakech, often referred to as \"The Red City\" due to its distinctive red-hued buildings, stands against the backdrop of the snow-capped Atlas Mountains. Established in the 11th century, it has remained a crucial political, economic, and cultural center of Morocco. **Journey through the Medina** Marrakech's old town, the Medina, is a UNESCO World Heritage site and a labyrinthine maze of narrow alleys, bustling souks, and historical landmarks. The Djemaa el-Fna Square lies at the heart of the Medina and comes alive every evening with storytellers, musicians, snake charmers, and food stalls offering tantalizing Moroccan delicacies. **Palaces and Gardens** The city is also home to grand palaces like the Bahia Palace, showcasing intricate Islamic architecture, and the Saadian Tombs, remnants of the Saadian dynasty. The Majorelle Garden, restored by the fashion designer Yves Saint Laurent, is a tranquil oasis of cacti, palm trees, and cobalt blue accents. **Modern Marrakech** While tradition and history permeate Marrakech, the city is not averse to the modern world. Gueliz, the new town, is brimming with contemporary art galleries, stylish cafes, and chic boutiques, offering a stark contrast to the ancient Medina. **Moroccan Cuisine** No journey through Morocco and Marrakech would be complete without indulging in the local cuisine. Tagines, couscous, and pastilla are just a few of the many dishes that combine a plethora of flavors and spices like saffron, cumin, and mint. Paired with Moroccan mint tea, the culinary experience is truly unparalleled. **In Conclusion** Morocco, with Marrakech at its heart, offers travelers an unparalleled journey through time. The convergence of history, culture, architecture, and gastronomy makes it an enthralling destination for those seeking both adventure and reflection. As the Moroccan proverb goes, \"He who does not travel does not know the value of men.\" In the case of Morocco and Marrakech, it's not just the value of men, but also the value of time, tradition, and tales that have spanned centuries.\n"
          ]
        }
      ]
    },
    {
      "cell_type": "code",
      "source": [
        "# Tokenization des phrases et des mots\n",
        "sentences = sent_tokenize(text)\n",
        "tokenized_sentences = [word_tokenize(sentence.lower()) for sentence in sentences]\n",
        "\n",
        "print(tokenized_sentences)\n"
      ],
      "metadata": {
        "colab": {
          "base_uri": "https://localhost:8080/"
        },
        "id": "7ZTrFcL3ggjB",
        "outputId": "299bc21b-79ac-4a23-a504-6ad382383d8d"
      },
      "execution_count": null,
      "outputs": [
        {
          "output_type": "stream",
          "name": "stdout",
          "text": [
            "[['*', '*', 'morocco', 'and', 'marrakech', ':', 'a', 'tapestry', 'of', 'tradition', 'and', 'modernity', '*', '*', 'morocco', ',', 'located', 'at', 'the', 'crossroads', 'of', 'europe', 'and', 'africa', ',', 'is', 'a', 'country', 'drenched', 'in', 'history', ',', 'mystery', ',', 'and', 'cultural', 'richness', '.'], ['a', 'testament', 'to', 'the', 'ancient', 'civilizations', 'that', 'once', 'flourished', 'here', ',', 'this', 'north', 'african', 'kingdom', 'boasts', 'a', 'unique', 'blend', 'of', 'arab', ',', 'berber', ',', 'and', 'european', 'influences', '.'], ['at', 'the', 'heart', 'of', 'morocco', \"'s\", 'rich', 'tapestry', 'lies', 'marrakech', ',', 'one', 'of', 'its', 'four', 'imperial', 'cities', 'and', 'a', 'vibrant', 'epicenter', 'of', 'tradition', 'and', 'modernity', '.'], ['*', '*', 'geographical', 'significance', '*', '*', 'morocco', 'is', 'bordered', 'by', 'the', 'atlantic', 'ocean', 'to', 'the', 'west', ',', 'the', 'mediterranean', 'sea', 'to', 'the', 'north', ',', 'algeria', 'to', 'the', 'east', 'and', 'southeast', ',', 'and', 'the', 'vast', 'sahara', 'desert', 'to', 'the', 'south', '.'], ['its', 'strategic', 'location', 'has', 'historically', 'made', 'it', 'a', 'sought-after', 'territory', 'and', 'a', 'melting', 'pot', 'of', 'cultures', ',', 'religions', ',', 'and', 'trade', 'routes', '.'], ['*', '*', 'marrakech', ':', 'the', 'red', 'city', '*', '*', 'marrakech', ',', 'often', 'referred', 'to', 'as', '``', 'the', 'red', 'city', \"''\", 'due', 'to', 'its', 'distinctive', 'red-hued', 'buildings', ',', 'stands', 'against', 'the', 'backdrop', 'of', 'the', 'snow-capped', 'atlas', 'mountains', '.'], ['established', 'in', 'the', '11th', 'century', ',', 'it', 'has', 'remained', 'a', 'crucial', 'political', ',', 'economic', ',', 'and', 'cultural', 'center', 'of', 'morocco', '.'], ['*', '*', 'journey', 'through', 'the', 'medina', '*', '*', 'marrakech', \"'s\", 'old', 'town', ',', 'the', 'medina', ',', 'is', 'a', 'unesco', 'world', 'heritage', 'site', 'and', 'a', 'labyrinthine', 'maze', 'of', 'narrow', 'alleys', ',', 'bustling', 'souks', ',', 'and', 'historical', 'landmarks', '.'], ['the', 'djemaa', 'el-fna', 'square', 'lies', 'at', 'the', 'heart', 'of', 'the', 'medina', 'and', 'comes', 'alive', 'every', 'evening', 'with', 'storytellers', ',', 'musicians', ',', 'snake', 'charmers', ',', 'and', 'food', 'stalls', 'offering', 'tantalizing', 'moroccan', 'delicacies', '.'], ['*', '*', 'palaces', 'and', 'gardens', '*', '*', 'the', 'city', 'is', 'also', 'home', 'to', 'grand', 'palaces', 'like', 'the', 'bahia', 'palace', ',', 'showcasing', 'intricate', 'islamic', 'architecture', ',', 'and', 'the', 'saadian', 'tombs', ',', 'remnants', 'of', 'the', 'saadian', 'dynasty', '.'], ['the', 'majorelle', 'garden', ',', 'restored', 'by', 'the', 'fashion', 'designer', 'yves', 'saint', 'laurent', ',', 'is', 'a', 'tranquil', 'oasis', 'of', 'cacti', ',', 'palm', 'trees', ',', 'and', 'cobalt', 'blue', 'accents', '.'], ['*', '*', 'modern', 'marrakech', '*', '*', 'while', 'tradition', 'and', 'history', 'permeate', 'marrakech', ',', 'the', 'city', 'is', 'not', 'averse', 'to', 'the', 'modern', 'world', '.'], ['gueliz', ',', 'the', 'new', 'town', ',', 'is', 'brimming', 'with', 'contemporary', 'art', 'galleries', ',', 'stylish', 'cafes', ',', 'and', 'chic', 'boutiques', ',', 'offering', 'a', 'stark', 'contrast', 'to', 'the', 'ancient', 'medina', '.'], ['*', '*', 'moroccan', 'cuisine', '*', '*', 'no', 'journey', 'through', 'morocco', 'and', 'marrakech', 'would', 'be', 'complete', 'without', 'indulging', 'in', 'the', 'local', 'cuisine', '.'], ['tagines', ',', 'couscous', ',', 'and', 'pastilla', 'are', 'just', 'a', 'few', 'of', 'the', 'many', 'dishes', 'that', 'combine', 'a', 'plethora', 'of', 'flavors', 'and', 'spices', 'like', 'saffron', ',', 'cumin', ',', 'and', 'mint', '.'], ['paired', 'with', 'moroccan', 'mint', 'tea', ',', 'the', 'culinary', 'experience', 'is', 'truly', 'unparalleled', '.'], ['*', '*', 'in', 'conclusion', '*', '*', 'morocco', ',', 'with', 'marrakech', 'at', 'its', 'heart', ',', 'offers', 'travelers', 'an', 'unparalleled', 'journey', 'through', 'time', '.'], ['the', 'convergence', 'of', 'history', ',', 'culture', ',', 'architecture', ',', 'and', 'gastronomy', 'makes', 'it', 'an', 'enthralling', 'destination', 'for', 'those', 'seeking', 'both', 'adventure', 'and', 'reflection', '.'], ['as', 'the', 'moroccan', 'proverb', 'goes', ',', '``', 'he', 'who', 'does', 'not', 'travel', 'does', 'not', 'know', 'the', 'value', 'of', 'men', '.', \"''\"], ['in', 'the', 'case', 'of', 'morocco', 'and', 'marrakech', ',', 'it', \"'s\", 'not', 'just', 'the', 'value', 'of', 'men', ',', 'but', 'also', 'the', 'value', 'of', 'time', ',', 'tradition', ',', 'and', 'tales', 'that', 'have', 'spanned', 'centuries', '.']]\n"
          ]
        }
      ]
    },
    {
      "cell_type": "code",
      "source": [
        "# Entraîner le modèle Word2Vec\n",
        "model = Word2Vec(sentences=tokenized_sentences, vector_size=10, window=5, min_count=1, sg=0)\n",
        "\n",
        "# Sauvegarder le modèle\n",
        "model.save(\"word2vec_model\")\n",
        "\n",
        "# Charger le modèle\n",
        "model = Word2Vec.load(\"word2vec_model\")\n"
      ],
      "metadata": {
        "id": "tGjUSSxLg5UO"
      },
      "execution_count": null,
      "outputs": []
    },
    {
      "cell_type": "code",
      "source": [
        "# Extraire la représentation vectorielle d'un mot\n",
        "word_vector = model.wv['morocco']\n",
        "print(\"Représentation vectorielle de 'Morocco':\", word_vector)"
      ],
      "metadata": {
        "colab": {
          "base_uri": "https://localhost:8080/"
        },
        "id": "c6J-2A0ihTi0",
        "outputId": "e0b7966d-f77c-4051-cf6d-8ee124cecef1"
      },
      "execution_count": null,
      "outputs": [
        {
          "output_type": "stream",
          "name": "stdout",
          "text": [
            "Représentation vectorielle de 'Morocco': [ 0.01672424  0.00196985  0.03735876  0.0035841   0.0965725   0.0512088\n",
            " -0.08345772 -0.06745791  0.00712625  0.06226778]\n"
          ]
        }
      ]
    },
    {
      "cell_type": "code",
      "source": [
        "# Calculer la similarité entre deux mots\n",
        "similarity_score = model.wv.similarity('morocco', 'marrakech')\n",
        "print(\"Similarité entre 'Morocco' et 'Marrakech':\", similarity_score)"
      ],
      "metadata": {
        "colab": {
          "base_uri": "https://localhost:8080/"
        },
        "id": "-ZjAejlzhVkT",
        "outputId": "bea2f96c-698f-4a53-f7e1-a6c6b8261f82"
      },
      "execution_count": null,
      "outputs": [
        {
          "output_type": "stream",
          "name": "stdout",
          "text": [
            "Similarité entre 'Morocco' et 'Marrakech': -0.22363175\n"
          ]
        }
      ]
    },
    {
      "cell_type": "code",
      "source": [
        "# Extraire les mots contextuels (les plus similaires) pour un mot central donné\n",
        "similar_words = model.wv.most_similar('morocco', topn=5)\n",
        "print(\"Mots contextuels pour 'Morocco':\", similar_words)"
      ],
      "metadata": {
        "colab": {
          "base_uri": "https://localhost:8080/"
        },
        "id": "IGc6ffHphZwQ",
        "outputId": "fce902e6-f54b-4bc1-b82c-bc8bbca3ce92"
      },
      "execution_count": null,
      "outputs": [
        {
          "output_type": "stream",
          "name": "stdout",
          "text": [
            "Mots contextuels pour 'Morocco': [('vibrant', 0.8968371152877808), ('plethora', 0.7644076347351074), ('designer', 0.6608176827430725), ('bordered', 0.6126592755317688), ('trade', 0.6121020913124084)]\n"
          ]
        }
      ]
    }
  ],
  "metadata": {
    "colab": {
      "provenance": []
    },
    "kernelspec": {
      "display_name": "Python 3",
      "name": "python3"
    },
    "language_info": {
      "name": "python"
    }
  },
  "nbformat": 4,
  "nbformat_minor": 0
}